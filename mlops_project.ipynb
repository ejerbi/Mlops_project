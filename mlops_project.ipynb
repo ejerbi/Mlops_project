{
 "cells": [
  {
   "cell_type": "code",
   "execution_count": null,
   "metadata": {},
   "outputs": [
    {
     "name": "stdout",
     "output_type": "stream",
     "text": [
      "<class 'pandas.core.frame.DataFrame'>\n",
      "RangeIndex: 10000 entries, 0 to 9999\n",
      "Data columns (total 8 columns):\n",
      " #   Column                    Non-Null Count  Dtype  \n",
      "---  ------                    --------------  -----  \n",
      " 0   customer_id               10000 non-null  int64  \n",
      " 1   credit_lines_outstanding  10000 non-null  int64  \n",
      " 2   loan_amt_outstanding      10000 non-null  float64\n",
      " 3   total_debt_outstanding    10000 non-null  float64\n",
      " 4   income                    10000 non-null  float64\n",
      " 5   years_employed            10000 non-null  int64  \n",
      " 6   fico_score                10000 non-null  int64  \n",
      " 7   default                   10000 non-null  int64  \n",
      "dtypes: float64(3), int64(5)\n",
      "memory usage: 625.1 KB\n"
     ]
    },
    {
     "data": {
      "text/plain": [
       "(None,\n",
       "    customer_id  credit_lines_outstanding  loan_amt_outstanding  \\\n",
       " 0      8153374                         0           5221.545193   \n",
       " 1      7442532                         5           1958.928726   \n",
       " 2      2256073                         0           3363.009259   \n",
       " 3      4885975                         0           4766.648001   \n",
       " 4      4700614                         1           1345.827718   \n",
       " \n",
       "    total_debt_outstanding       income  years_employed  fico_score  default  \n",
       " 0             3915.471226  78039.38546               5         605        0  \n",
       " 1             8228.752520  26648.43525               2         572        1  \n",
       " 2             2027.830850  65866.71246               4         602        0  \n",
       " 3             2501.730397  74356.88347               5         612        0  \n",
       " 4             1768.826187  23448.32631               6         631        0  )"
      ]
     },
     "execution_count": 2,
     "metadata": {},
     "output_type": "execute_result"
    }
   ],
   "source": [
    "import pandas as pd\n",
    "\n",
    "# Charger les données\n",
    "file_path = \"Loan_Data.csv\"\n",
    "df = pd.read_csv(file_path)\n",
    "\n",
    "# Afficher les premières lignes et les informations générales\n",
    "df_info = df.info()\n",
    "df_head = df.head()\n",
    "\n",
    "df_info, df_head\n"
   ]
  },
  {
   "cell_type": "code",
   "execution_count": null,
   "metadata": {},
   "outputs": [
    {
     "data": {
      "text/plain": [
       "((8000, 6), (2000, 6))"
      ]
     },
     "execution_count": 6,
     "metadata": {},
     "output_type": "execute_result"
    }
   ],
   "source": [
    "from sklearn.model_selection import train_test_split\n",
    "from sklearn.preprocessing import StandardScaler\n",
    "from sklearn.linear_model import LinearRegression\n",
    "\n",
    "\n",
    "# Suppression de l'ID client\n",
    "df_cleaned = df.drop(columns=[\"customer_id\"])\n",
    "\n",
    "# Séparer les features et la cible\n",
    "X = df_cleaned.drop(columns=[\"default\"])\n",
    "y = df_cleaned[\"default\"]\n",
    "\n",
    "# Division en train et test (80/20)\n",
    "X_train, X_test, y_train, y_test = train_test_split(X, y, test_size=0.2, random_state=42, stratify=y)\n",
    "\n",
    "# Normalisation des variables continues\n",
    "scaler = StandardScaler()\n",
    "X_train_scaled = scaler.fit_transform(X_train)\n",
    "X_test_scaled = scaler.transform(X_test)\n",
    "\n",
    "# Vérification des dimensions après prétraitement\n",
    "X_train_scaled.shape, X_test_scaled.shape\n",
    "\n",
    "# Initialiser le modèle de régression linéaire\n",
    "model = LinearRegression()\n",
    "\n",
    "# Entraîner le modèle sur les données d'entraînement\n",
    "model.fit(X_train_scaled, y_train)\n",
    "\n",
    "# Prédire les valeurs sur l'ensemble de test\n",
    "with open('model.pkl', 'wb') as file:\n",
    "    pickle.dump(model, file)\n",
    "\n",
    "print(\"Modèle sauvegardé sous 'model.pkl' !\")\n",
    "\n"
   ]
  }
 ],
 "metadata": {
  "kernelspec": {
   "display_name": "myenv",
   "language": "python",
   "name": "python3"
  },
  "language_info": {
   "codemirror_mode": {
    "name": "ipython",
    "version": 3
   },
   "file_extension": ".py",
   "mimetype": "text/x-python",
   "name": "python",
   "nbconvert_exporter": "python",
   "pygments_lexer": "ipython3",
   "version": "3.11.6"
  }
 },
 "nbformat": 4,
 "nbformat_minor": 2
}
